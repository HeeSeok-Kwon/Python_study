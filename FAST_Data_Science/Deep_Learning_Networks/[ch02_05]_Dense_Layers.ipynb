{
  "nbformat": 4,
  "nbformat_minor": 0,
  "metadata": {
    "colab": {
      "name": "[ch02-05]_Dense_Layers.ipynb",
      "provenance": [],
      "collapsed_sections": []
    },
    "kernelspec": {
      "name": "python3",
      "display_name": "Python 3"
    },
    "language_info": {
      "name": "python"
    }
  },
  "cells": [
    {
      "cell_type": "markdown",
      "metadata": {
        "id": "Van5jjRXG3Jr"
      },
      "source": [
        "2-1: Dense Layers"
      ]
    },
    {
      "cell_type": "markdown",
      "metadata": {
        "id": "IabGtMSgHNSs"
      },
      "source": [
        "Code 2-1-1: Shapes of Dense Layers"
      ]
    },
    {
      "cell_type": "code",
      "metadata": {
        "colab": {
          "base_uri": "https://localhost:8080/"
        },
        "id": "6RLviDOHHVp7",
        "outputId": "b0fbd984-821a-474e-ff85-afd03bf5d5c2"
      },
      "source": [
        "import tensorflow as tf\n",
        "\n",
        "from tensorflow.keras.layers import Dense\n",
        "\n",
        "# N, n_feature = 1, 10  # N = 1 --> mini-batch에서 data sample이 하나\n",
        "N, n_feature = 8, 10 \n",
        "X = tf.random.normal(shape=(N, n_feature))\n",
        "\n",
        "n_neuron = 3\n",
        "dense = Dense(units=n_neuron, activation=\"sigmoid\")\n",
        "Y = dense(X)\n",
        "\n",
        "W, B = dense.get_weights()\n",
        "\n",
        "print(\"==== Input/Weights/Bias ====\")\n",
        "print(\"X: \", X.shape)\n",
        "print(\"W: \", W.shape)\n",
        "print(\"B: \", B.shape)\n",
        "print(\"Y: \", Y.shape)\n",
        "\n",
        "# print(W)"
      ],
      "execution_count": 3,
      "outputs": [
        {
          "output_type": "stream",
          "name": "stdout",
          "text": [
            "==== Input/Weights/Bias ====\n",
            "X:  (8, 10)\n",
            "W:  (10, 3)\n",
            "B:  (3,)\n",
            "Y:  (8, 3)\n"
          ]
        }
      ]
    },
    {
      "cell_type": "markdown",
      "metadata": {
        "id": "lKH79ltTHA2D"
      },
      "source": [
        "Code 2-1-2: Output Calculations"
      ]
    },
    {
      "cell_type": "code",
      "metadata": {
        "colab": {
          "base_uri": "https://localhost:8080/"
        },
        "id": "K8Od1KtGG2Db",
        "outputId": "df41b3fa-9f96-46dc-a39b-77c8d45f1ec5"
      },
      "source": [
        "import numpy as np\n",
        "import tensorflow as tf\n",
        "\n",
        "from tensorflow.math import exp\n",
        "from tensorflow.linalg import matmul\n",
        "\n",
        "from tensorflow.keras.layers import Dense\n",
        "\n",
        "N, n_feature = 4, 10 \n",
        "X = tf.random.normal(shape=(N, n_feature))\n",
        "\n",
        "n_neuron = 3\n",
        "dense = Dense(units=n_neuron, activation=\"sigmoid\")\n",
        "Y_tf = dense(X)\n",
        "\n",
        "W, B = dense.get_weights()\n",
        "print(\"Y(tensorflow): \\n\", Y_tf.numpy())\n",
        "\n",
        "# calculate with matrix multiplication\n",
        "Z = matmul(X, W) + B\n",
        "Y_man_matmul = 1/(1 + exp(-Z))\n",
        "print(\"Y(with matrix multiplication): \\n\", Y_man_matmul.numpy())\n",
        "\n",
        "# calculate with dot products\n",
        "Y_man_vec = np.zeros(shape=(N, n_neuron))\n",
        "print(Y_man_vec)\n",
        "for x_idx in range(N):\n",
        "  x = X[x_idx]\n",
        "  for nu_idx in range(n_neuron):\n",
        "    w, b = W[:,nu_idx], B[nu_idx]\n",
        "    z = tf.reduce_sum(x * w) + b\n",
        "    a = 1/(1 + np.exp(-z))\n",
        "    Y_man_vec[x_idx, nu_idx] = a\n",
        "\n",
        "print(\"Y(with dot products): \\n\", Y_man_vec)"
      ],
      "execution_count": 19,
      "outputs": [
        {
          "output_type": "stream",
          "name": "stdout",
          "text": [
            "Y(tensorflow): \n",
            " [[0.35408047 0.801633   0.56974244]\n",
            " [0.3884276  0.6404854  0.5028319 ]\n",
            " [0.31307483 0.6634362  0.6844174 ]\n",
            " [0.80961204 0.50824744 0.62347895]]\n",
            "Y(with matrix multiplication): \n",
            " [[0.35408047 0.80163306 0.5697425 ]\n",
            " [0.3884276  0.6404854  0.50283194]\n",
            " [0.31307483 0.6634362  0.6844174 ]\n",
            " [0.8096121  0.50824744 0.623479  ]]\n",
            "[[0. 0. 0.]\n",
            " [0. 0. 0.]\n",
            " [0. 0. 0.]\n",
            " [0. 0. 0.]]\n",
            "Y(with dot products): \n",
            " [[0.35408046 0.801633   0.56974248]\n",
            " [0.38842759 0.64048535 0.50283188]\n",
            " [0.31307484 0.6634362  0.68441741]\n",
            " [0.8096121  0.50824744 0.62347896]]\n"
          ]
        }
      ]
    }
  ]
}