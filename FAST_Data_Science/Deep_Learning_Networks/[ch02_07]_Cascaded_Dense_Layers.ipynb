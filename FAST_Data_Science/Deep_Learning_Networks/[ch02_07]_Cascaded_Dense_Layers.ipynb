{
  "nbformat": 4,
  "nbformat_minor": 0,
  "metadata": {
    "colab": {
      "name": "[ch02_07]_Cascaded_Dense_Layers.ipynb",
      "provenance": [],
      "collapsed_sections": [],
      "authorship_tag": "ABX9TyO+8ddI76SWeGS7ELBQsmT/"
    },
    "kernelspec": {
      "name": "python3",
      "display_name": "Python 3"
    },
    "language_info": {
      "name": "python"
    }
  },
  "cells": [
    {
      "cell_type": "markdown",
      "metadata": {
        "id": "3KIo6Nyy9MJQ"
      },
      "source": [
        "2-2: Cascaded Dense Layers"
      ]
    },
    {
      "cell_type": "markdown",
      "metadata": {
        "id": "FxxaBnYl9SQq"
      },
      "source": [
        "Code.2-2-1:Shapes of Cascaded Dense Layers"
      ]
    },
    {
      "cell_type": "code",
      "metadata": {
        "colab": {
          "base_uri": "https://localhost:8080/"
        },
        "id": "hJ2su9dj9LIX",
        "outputId": "7e5a0456-da53-43d1-9d07-30b7ac08fbca"
      },
      "source": [
        "import tensorflow as tf\n",
        "\n",
        "from tensorflow.keras.layers import Dense\n",
        "\n",
        "N, n_feature = 4, 10\n",
        "X = tf.random.normal(shape=(N, n_feature))\n",
        "\n",
        "n_neurons = [3, 5]\n",
        "dense1 = Dense(units=n_neurons[0], activation='sigmoid')\n",
        "dense2 = Dense(units=n_neurons[1], activation='sigmoid')\n",
        "\n",
        "# forward propagation\n",
        "A1 = dense1(X)\n",
        "Y = dense2(A1)\n",
        "\n",
        "# get weight.bias\n",
        "W1, B1 = dense1.get_weights()\n",
        "W2, B2 = dense2.get_weights()\n",
        "\n",
        "print(\"X: {}\\n\".format(X.shape)) \n",
        "\n",
        "print(\"W1: \", W1.shape)\n",
        "print(\"B1: \", B1.shape)\n",
        "print(\"A1: {}\\n\".format(A1.shape))\n",
        "\n",
        "print(\"W2: \", W2.shape)\n",
        "print(\"B2: \", B2.shape)\n",
        "print(\"Y: {}\\n\".format(Y.shape))"
      ],
      "execution_count": 4,
      "outputs": [
        {
          "output_type": "stream",
          "name": "stdout",
          "text": [
            "X: (4, 10)\n",
            "\n",
            "W1:  (10, 3)\n",
            "B1:  (3,)\n",
            "A1: (4, 3)\n",
            "\n",
            "W2:  (3, 5)\n",
            "B2:  (5,)\n",
            "Y: (4, 5)\n",
            "\n"
          ]
        }
      ]
    },
    {
      "cell_type": "markdown",
      "metadata": {
        "id": "vsOAp8oX9YdV"
      },
      "source": [
        "Code.2-2-2:Dense Layers with Python List"
      ]
    },
    {
      "cell_type": "code",
      "metadata": {
        "colab": {
          "base_uri": "https://localhost:8080/"
        },
        "id": "6cOfi8x59c6M",
        "outputId": "b113de60-e36f-4e09-b6c9-996bfea828f4"
      },
      "source": [
        "import tensorflow as tf\n",
        "\n",
        "from tensorflow.keras.layers import Dense\n",
        "\n",
        "N, n_feature = 4, 10\n",
        "X = tf.random.normal(shape=(N, n_feature))\n",
        "\n",
        "n_neurons = [10, 20, 30, 40, 50, 60, 70, 80, 90, 100]\n",
        "\n",
        "dense_layers = list()\n",
        "for n_neuron in n_neurons:\n",
        "  dense = Dense(units=n_neuron, activation='relu')\n",
        "  dense_layers.append(dense)\n",
        "  # print(len(dense_layers))\n",
        "\n",
        "# for dense in dense_layers:\n",
        "#   print(dense)\n",
        "\n",
        "print(\"Input: \", X.shape)\n",
        "for dense_idx, dense in enumerate(dense_layers):\n",
        "  X = dense(X)\n",
        "  print(\"After dense layer \", dense_idx+1)\n",
        "  print(X.shape, '\\n')\n",
        "Y = X"
      ],
      "execution_count": 8,
      "outputs": [
        {
          "output_type": "stream",
          "name": "stdout",
          "text": [
            "Input:  (4, 10)\n",
            "After dense layer  1\n",
            "(4, 10) \n",
            "\n",
            "After dense layer  2\n",
            "(4, 20) \n",
            "\n",
            "After dense layer  3\n",
            "(4, 30) \n",
            "\n",
            "After dense layer  4\n",
            "(4, 40) \n",
            "\n",
            "After dense layer  5\n",
            "(4, 50) \n",
            "\n",
            "After dense layer  6\n",
            "(4, 60) \n",
            "\n",
            "After dense layer  7\n",
            "(4, 70) \n",
            "\n",
            "After dense layer  8\n",
            "(4, 80) \n",
            "\n",
            "After dense layer  9\n",
            "(4, 90) \n",
            "\n",
            "After dense layer  10\n",
            "(4, 100) \n",
            "\n"
          ]
        }
      ]
    },
    {
      "cell_type": "markdown",
      "metadata": {
        "id": "nvsvps6X9dSu"
      },
      "source": [
        "Code.2-2-3: Output Calculations"
      ]
    },
    {
      "cell_type": "code",
      "metadata": {
        "colab": {
          "base_uri": "https://localhost:8080/"
        },
        "id": "dbwRqS1B9gws",
        "outputId": "0099500c-a2f7-4491-e6d4-26b9a7e67a4e"
      },
      "source": [
        "import tensorflow as tf\n",
        "\n",
        "from tensorflow.math import exp\n",
        "from tensorflow.linalg import matmul\n",
        "\n",
        "from tensorflow.keras.layers import Dense\n",
        "\n",
        "N, n_feature = 4, 10\n",
        "X = tf.random.normal(shape=(N, n_feature))\n",
        "X_cp = tf.identity(X) \n",
        "\n",
        "n_neurons = [3, 4, 5]\n",
        "\n",
        "dense_layers = list()\n",
        "\n",
        "for n_neuron in n_neurons:\n",
        "  dense = Dense(units=n_neuron, activation='sigmoid')\n",
        "  dense_layers.append(dense)\n",
        "\n",
        "# forward propagation(Tensorflow)\n",
        "W, B = list(), list()\n",
        "for dense_idx, dense in enumerate(dense_layers):\n",
        "  X = dense(X)\n",
        "  w, b = dense.get_weights()\n",
        "\n",
        "  W.append(w)\n",
        "  B.append(b)\n",
        "\n",
        "print(\"Y(Tensorflow): \\n\", X.numpy())\n",
        "\n",
        "# forward propagation(Manual)\n",
        "for layer_idx in range(len(n_neurons)):\n",
        "  w, b = W[layer_idx], B[layer_idx]\n",
        "\n",
        "  X_cp = matmul(X_cp, w) + b # Affine function\n",
        "  X_cp = 1/(1 + exp(-X_cp))  # Activation function\n",
        "\n",
        "print(\"Y(Manual): \\n\", X_cp.numpy())"
      ],
      "execution_count": 12,
      "outputs": [
        {
          "output_type": "stream",
          "name": "stdout",
          "text": [
            "Y(Tensorflow): \n",
            " [[0.55218184 0.43494263 0.57374513 0.644922   0.60733414]\n",
            " [0.5148062  0.4347306  0.59437007 0.62206453 0.61525327]\n",
            " [0.5183511  0.43572626 0.593071   0.6252407  0.6186592 ]\n",
            " [0.56280535 0.43486422 0.5677031  0.6478473  0.60153776]]\n",
            "Y(Manual): \n",
            " [[0.5521818  0.43494263 0.57374513 0.644922   0.6073342 ]\n",
            " [0.5148062  0.43473056 0.5943701  0.62206453 0.61525327]\n",
            " [0.5183511  0.43572623 0.593071   0.6252407  0.6186592 ]\n",
            " [0.5628054  0.43486416 0.56770307 0.6478473  0.60153776]]\n"
          ]
        }
      ]
    }
  ]
}