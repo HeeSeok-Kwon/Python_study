{
  "nbformat": 4,
  "nbformat_minor": 0,
  "metadata": {
    "colab": {
      "name": "2_perceptron.ipynb",
      "provenance": [],
      "authorship_tag": "ABX9TyPOhCs4x/JVM+o5SH4mdmtS"
    },
    "kernelspec": {
      "name": "python3",
      "display_name": "Python 3"
    },
    "language_info": {
      "name": "python"
    }
  },
  "cells": [
    {
      "cell_type": "markdown",
      "source": [
        "2.3 퍼셉트론 구현하기 \n",
        "- 2.3.1 간단한 구현부터"
      ],
      "metadata": {
        "id": "Fn_M-Z-ERJ9D"
      }
    },
    {
      "cell_type": "code",
      "execution_count": 1,
      "metadata": {
        "id": "_5ajCc8MRHmk"
      },
      "outputs": [],
      "source": [
        "def AND(x1, x2):\n",
        "  w1, w2, theta = 0.5, 0.5, 0.7\n",
        "  tmp = x1*w1 + x2*w2\n",
        "  if tmp <= theta:\n",
        "    return 0\n",
        "  elif tmp > theta:\n",
        "    return 1"
      ]
    },
    {
      "cell_type": "code",
      "source": [
        "print(AND(0, 0))\n",
        "print(AND(1, 0))\n",
        "print(AND(0, 1))\n",
        "print(AND(1, 1))"
      ],
      "metadata": {
        "colab": {
          "base_uri": "https://localhost:8080/"
        },
        "id": "A2y1TrziSxVI",
        "outputId": "42318b5c-e2c4-4135-f6ec-0aef2bcc1081"
      },
      "execution_count": 2,
      "outputs": [
        {
          "output_type": "stream",
          "name": "stdout",
          "text": [
            "0\n",
            "0\n",
            "0\n",
            "1\n"
          ]
        }
      ]
    },
    {
      "cell_type": "markdown",
      "source": [
        "- 2.3.2 가중치와 편향 도입 "
      ],
      "metadata": {
        "id": "ZXa6YEAqTD_V"
      }
    },
    {
      "cell_type": "code",
      "source": [
        "import numpy as np\n",
        "x = np.array([0, 1]) # 입력\n",
        "w = np.array([0.5, 0.5]) # 가중치\n",
        "b = -0.7 # 편향, bias"
      ],
      "metadata": {
        "id": "D6sZF-h9S4Y0"
      },
      "execution_count": 3,
      "outputs": []
    },
    {
      "cell_type": "code",
      "source": [
        "print(w*x)"
      ],
      "metadata": {
        "colab": {
          "base_uri": "https://localhost:8080/"
        },
        "id": "9DW9144PTY_C",
        "outputId": "c26fb03f-cc6e-428d-e080-9653378890fd"
      },
      "execution_count": 4,
      "outputs": [
        {
          "output_type": "stream",
          "name": "stdout",
          "text": [
            "[0.  0.5]\n"
          ]
        }
      ]
    },
    {
      "cell_type": "code",
      "source": [
        "np.sum(w*x)"
      ],
      "metadata": {
        "colab": {
          "base_uri": "https://localhost:8080/"
        },
        "id": "pYG9ChzzTbj0",
        "outputId": "35861f5e-e967-4d97-94bb-b16e6d3c68b2"
      },
      "execution_count": 5,
      "outputs": [
        {
          "output_type": "execute_result",
          "data": {
            "text/plain": [
              "0.5"
            ]
          },
          "metadata": {},
          "execution_count": 5
        }
      ]
    },
    {
      "cell_type": "code",
      "source": [
        "np.sum(w*x) + b"
      ],
      "metadata": {
        "colab": {
          "base_uri": "https://localhost:8080/"
        },
        "id": "YrsMNkuKTgBr",
        "outputId": "a4f38770-9532-46ab-c7bb-48958ccb7539"
      },
      "execution_count": 6,
      "outputs": [
        {
          "output_type": "execute_result",
          "data": {
            "text/plain": [
              "-0.19999999999999996"
            ]
          },
          "metadata": {},
          "execution_count": 6
        }
      ]
    },
    {
      "cell_type": "markdown",
      "source": [
        "- 2.3.3 가중치와 편향 구하기"
      ],
      "metadata": {
        "id": "nDn6BFE2Tr6G"
      }
    },
    {
      "cell_type": "code",
      "source": [
        "def AND(x1, x2):\n",
        "  x = np.array([x1, x2])\n",
        "  w = np.array([0.5, 0.5])\n",
        "  b = -0.7\n",
        "  tmp = np.sum(w*x) + b\n",
        "  if tmp <= 0:\n",
        "    return 0\n",
        "  elif tmp > 0:\n",
        "    return 1"
      ],
      "metadata": {
        "id": "TzpmlQf6TiXw"
      },
      "execution_count": 11,
      "outputs": []
    },
    {
      "cell_type": "code",
      "source": [
        "print(AND(0, 0))\n",
        "print(AND(1, 0))\n",
        "print(AND(0, 1))\n",
        "print(AND(1, 1))"
      ],
      "metadata": {
        "colab": {
          "base_uri": "https://localhost:8080/"
        },
        "id": "Amksi6JDU1LG",
        "outputId": "e92f8d5b-0440-4e63-f2fd-d35d1fbd2f36"
      },
      "execution_count": 13,
      "outputs": [
        {
          "output_type": "stream",
          "name": "stdout",
          "text": [
            "0\n",
            "0\n",
            "0\n",
            "1\n"
          ]
        }
      ]
    },
    {
      "cell_type": "code",
      "source": [
        "def NAND(x1, x2):\n",
        "  x = np.array([x1, x2])\n",
        "  w = np.array([-0.5, -0.5])\n",
        "  b = 0.7\n",
        "  tmp = np.sum(w*x) + b\n",
        "  if tmp <= 0:\n",
        "    return 0\n",
        "  elif tmp > 0:\n",
        "    return 1"
      ],
      "metadata": {
        "id": "xQvjTYX9UCYZ"
      },
      "execution_count": 8,
      "outputs": []
    },
    {
      "cell_type": "code",
      "source": [
        "print(NAND(0, 0))\n",
        "print(NAND(1, 0))\n",
        "print(NAND(0, 1))\n",
        "print(NAND(1, 1))"
      ],
      "metadata": {
        "colab": {
          "base_uri": "https://localhost:8080/"
        },
        "id": "gLi5SwfiVDZP",
        "outputId": "2b7dbf65-8e3a-4482-81dc-67e6ab842b35"
      },
      "execution_count": 14,
      "outputs": [
        {
          "output_type": "stream",
          "name": "stdout",
          "text": [
            "1\n",
            "1\n",
            "1\n",
            "0\n"
          ]
        }
      ]
    },
    {
      "cell_type": "code",
      "source": [
        "def OR(x1, x2):\n",
        "  x = np.array([x1, x2])\n",
        "  w = np.array([0.5, 0.5])\n",
        "  b = -0.2\n",
        "  tmp = np.sum(w*x) + b\n",
        "  if tmp <= 0:\n",
        "    return 0\n",
        "  elif tmp > 0:\n",
        "    return 1"
      ],
      "metadata": {
        "id": "2CREdrywUhWB"
      },
      "execution_count": 9,
      "outputs": []
    },
    {
      "cell_type": "code",
      "source": [
        "print(OR(0, 0))\n",
        "print(OR(1, 0))\n",
        "print(OR(0, 1))\n",
        "print(OR(1, 1))"
      ],
      "metadata": {
        "colab": {
          "base_uri": "https://localhost:8080/"
        },
        "id": "UX1zD48tUudX",
        "outputId": "c1e2eb04-6506-4d72-c93f-fcbe535445bd"
      },
      "execution_count": 15,
      "outputs": [
        {
          "output_type": "stream",
          "name": "stdout",
          "text": [
            "0\n",
            "1\n",
            "1\n",
            "1\n"
          ]
        }
      ]
    },
    {
      "cell_type": "code",
      "source": [
        "def XOR(x1, x2):\n",
        "  s1 = NAND(x1, x2)\n",
        "  s2 = OR(x1, x2)\n",
        "  y = AND(s1, s2)\n",
        "  return y"
      ],
      "metadata": {
        "id": "MlkAloh6VKHV"
      },
      "execution_count": 16,
      "outputs": []
    },
    {
      "cell_type": "code",
      "source": [
        "print(XOR(0, 0))\n",
        "print(XOR(1, 0))\n",
        "print(XOR(0, 1))\n",
        "print(XOR(1, 1))"
      ],
      "metadata": {
        "colab": {
          "base_uri": "https://localhost:8080/"
        },
        "id": "5l3AKzgoVy4G",
        "outputId": "6cc4ab02-6efa-469a-b44c-570be6ce49b0"
      },
      "execution_count": 17,
      "outputs": [
        {
          "output_type": "stream",
          "name": "stdout",
          "text": [
            "0\n",
            "1\n",
            "1\n",
            "0\n"
          ]
        }
      ]
    }
  ]
}