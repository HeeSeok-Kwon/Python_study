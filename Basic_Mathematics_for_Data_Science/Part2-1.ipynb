{
 "cells": [
  {
   "cell_type": "code",
   "execution_count": 2,
   "metadata": {},
   "outputs": [
    {
     "name": "stdout",
     "output_type": "stream",
     "text": [
      "Collecting sympy\n",
      "  Downloading https://files.pythonhosted.org/packages/aa/26/956fece0fc67a6c299557d22158503206d8f14b2e0acc2daf7f06c5f4721/sympy-1.8-py3-none-any.whl (6.1MB)\n",
      "\u001b[K    100% |████████████████████████████████| 6.1MB 184kB/s ta 0:00:01\n",
      "\u001b[?25hCollecting mpmath>=0.19 (from sympy)\n",
      "  Downloading https://files.pythonhosted.org/packages/d4/cf/3965bddbb4f1a61c49aacae0e78fd1fe36b5dc36c797b31f30cf07dcbbb7/mpmath-1.2.1-py3-none-any.whl (532kB)\n",
      "\u001b[K    100% |████████████████████████████████| 542kB 2.0MB/s ta 0:00:01\n",
      "\u001b[?25hInstalling collected packages: mpmath, sympy\n",
      "Successfully installed mpmath-1.2.1 sympy-1.8\n",
      "Note: you may need to restart the kernel to use updated packages.\n"
     ]
    }
   ],
   "source": [
    "pip install sympy"
   ]
  },
  {
   "cell_type": "code",
   "execution_count": 11,
   "metadata": {},
   "outputs": [
    {
     "name": "stdout",
     "output_type": "stream",
     "text": [
      "f'(x)= x**2*(2020*x**2017 + 9)\n",
      "g'(x)= (x + 1)**(-2)\n"
     ]
    }
   ],
   "source": [
    "# Ex 4-5\n",
    "import sympy as sp\n",
    "\n",
    "# (a) f(x) = x**2020 + 3*x**3 - 1\n",
    "x = sp.Symbol('x')\n",
    "fx = x**2020+3*x**3-1\n",
    "print(\"f'(x)=\", sp.simplify(sp.diff(fx,x)))\n",
    "\n",
    "# (b) g(x) = x/(x+1)\n",
    "x = sp.Symbol('x')\n",
    "gx = x/(x+1)\n",
    "print(\"g'(x)=\", sp.simplify(sp.diff(gx,x)))"
   ]
  },
  {
   "cell_type": "code",
   "execution_count": 12,
   "metadata": {},
   "outputs": [
    {
     "name": "stdout",
     "output_type": "stream",
     "text": [
      "f'(x)= cos(2*x)\n",
      "g'(x)= x*(x/cos(x)**2 + 2*tan(x))\n"
     ]
    }
   ],
   "source": [
    "# Ex 4-8\n",
    "# import sympy as sp\n",
    "# (a) f(x) = sinx*cosx\n",
    "x = sp.Symbol('x')\n",
    "fx = sp.sin(x)*sp.cos(x)\n",
    "print(\"f'(x)=\", sp.simplify(sp.diff(fx, x)))\n",
    "\n",
    "# (b) g(x) = x**2*tanx\n",
    "x = sp.Symbol('x')\n",
    "gx = x**2*sp.tan(x)\n",
    "print(\"g'(x)=\", sp.simplify(sp.diff(gx, x)))"
   ]
  },
  {
   "cell_type": "code",
   "execution_count": 13,
   "metadata": {},
   "outputs": [
    {
     "name": "stdout",
     "output_type": "stream",
     "text": [
      "f'(x)= (x - 1)*exp(x)/x**2\n",
      "g'(x)= -log(x) - 1 + 3/(x*log(2))\n",
      "g'(x)= -log(x) - 1 + 3/(x*log(2))\n"
     ]
    }
   ],
   "source": [
    "# Ex 4-11\n",
    "# import sympy as sp\n",
    "# (a) f(x) = exp(x)/x\n",
    "x = sp.Symbol('x')\n",
    "fx = sp.exp(x)/x\n",
    "print(\"f'(x)=\", sp.simplify(sp.diff(fx, x)))\n",
    "\n",
    "# (b) g(x) = 3*log2(x) - xlogx\n",
    "x = sp.Symbol('x')\n",
    "gx = 3*sp.log(x, 2)-x*sp.log(x)\n",
    "print(\"g'(x)=\", sp.simplify(sp.diff(gx, x)))\n",
    "print(\"g'(x)=\", sp.diff(gx, x))"
   ]
  },
  {
   "cell_type": "code",
   "execution_count": 9,
   "metadata": {},
   "outputs": [
    {
     "name": "stdout",
     "output_type": "stream",
     "text": [
      "f'(x)= 6*x - 4\n",
      "g'(x)= exp(x) - sin(x)\n"
     ]
    }
   ],
   "source": [
    "# Ex 4-12\n",
    "# import sympy as sp\n",
    "# (a) f(x) = x**3-2*x**2+1\n",
    "x = sp.Symbol('x')\n",
    "fx = x**3-2*x**2+1\n",
    "print(\"f'(x)=\", sp.simplify(sp.diff(sp.diff(fx, x),x)))\n",
    "\n",
    "# (b) g(x) = sinx+exp(X)\n",
    "x = sp.Symbol('x')\n",
    "gx = sp.sin(x)+sp.exp(x)\n",
    "print(\"g'(x)=\", sp.simplify(sp.diff(sp.diff(gx,x), x)))"
   ]
  },
  {
   "cell_type": "code",
   "execution_count": 10,
   "metadata": {},
   "outputs": [
    {
     "name": "stdout",
     "output_type": "stream",
     "text": [
      "f'(x)= 6\n",
      "g'(x)= exp(x) - cos(x)\n"
     ]
    }
   ],
   "source": [
    "# Ex 4-13\n",
    "# import sympy as sp\n",
    "# (a) f(x) = x**3-2*x**2+1\n",
    "x = sp.Symbol('x')\n",
    "fx = x**3-2*x**2+1\n",
    "print(\"f'(x)=\", sp.simplify(sp.diff(sp.diff(sp.diff(fx,x),x),x)))\n",
    "\n",
    "# (b) g(x) = sinx+exp(x)\n",
    "x = sp.Symbol('x')\n",
    "gx = sp.sin(x)+sp.exp(x)\n",
    "print(\"g'(x)=\", sp.simplify(sp.diff(sp.diff(sp.diff(gx,x), x),x)))"
   ]
  },
  {
   "cell_type": "code",
   "execution_count": 14,
   "metadata": {},
   "outputs": [
    {
     "name": "stdout",
     "output_type": "stream",
     "text": [
      "f'(x)= 6*x*(x**2 + 2)**2\n",
      "g'(x)= -8*x**3/(x**4 + 1)**3\n"
     ]
    }
   ],
   "source": [
    "# Ex 4-14\n",
    "# import sympy as sp\n",
    "# (a) f(x) = (x**2+2)**3\n",
    "x = sp.Symbol('x')\n",
    "fx = (x**2+2)**3\n",
    "print(\"f'(x)=\", sp.simplify(sp.diff(fx, x)))\n",
    "\n",
    "# (b) g(x) = 1/(x**4+1)**2\n",
    "x = sp.Symbol('x')\n",
    "gx = 1/(x**4+1)**2\n",
    "print(\"g'(x)=\", sp.simplify(sp.diff(gx, x)))"
   ]
  },
  {
   "cell_type": "code",
   "execution_count": 15,
   "metadata": {},
   "outputs": [
    {
     "name": "stdout",
     "output_type": "stream",
     "text": [
      "f'(x)= 2*x/(x**2 + 4)\n",
      "g'(x)= cos(tan(x))/cos(x)**2\n"
     ]
    }
   ],
   "source": [
    "# Ex 4-15\n",
    "# import sympy as sp\n",
    "# (a) f(x) = log(x**2+4)\n",
    "x = sp.Symbol('x')\n",
    "fx = sp.log(x**2+4)\n",
    "print(\"f'(x)=\", sp.simplify(sp.diff(fx, x)))\n",
    "\n",
    "# (b) g(x) = sin(tan(x))\n",
    "x = sp.Symbol('x')\n",
    "gx = sp.sin(sp.tan(x))\n",
    "print(\"g'(x)=\", sp.simplify(sp.diff(gx, x)))"
   ]
  },
  {
   "cell_type": "code",
   "execution_count": 16,
   "metadata": {},
   "outputs": [
    {
     "name": "stdout",
     "output_type": "stream",
     "text": [
      "dy/dx= (2*x - y - 3)/(x - 4*y + 4)\n"
     ]
    }
   ],
   "source": [
    "# Ex 4-17\n",
    "# import sympy as sp\n",
    "# f(x, y) = x**2+2*y**2-x*y-3*x-4*y-5 \n",
    "x = sp.Symbol('x')\n",
    "y = sp.Symbol('y')\n",
    "fxy = x**2+2*y**2-x*y-3*x-4*y-5 \n",
    "print('dy/dx=',sp.idiff(fxy, y, x)) # 음함수 fxy를 x로 미분"
   ]
  },
  {
   "cell_type": "code",
   "execution_count": 18,
   "metadata": {},
   "outputs": [
    {
     "name": "stdout",
     "output_type": "stream",
     "text": [
      "y'= 8*(2*x - 1)**3\n",
      "y'= 3*x**2/(x**3 - 3)**2\n",
      "y'= 2/sin(2*x)\n",
      "y'= 0.5*x**(-0.5)*exp(x**0.5)\n"
     ]
    }
   ],
   "source": [
    "# 연습문제 10\n",
    "# (a) y = (2*x-1)**4\n",
    "x = sp.Symbol('x')\n",
    "y = (2*x-1)**4\n",
    "print(\"y'=\", sp.simplify(sp.diff(y,x)))\n",
    "\n",
    "# (b) y = 1/(3-x**3)\n",
    "x = sp.Symbol('x')\n",
    "y = 1/(3-x**3)\n",
    "print(\"y'=\", sp.simplify(sp.diff(y,x)))\n",
    "\n",
    "# (c) y = log(tan(x))\n",
    "x = sp.Symbol('x')\n",
    "y = sp.log(sp.tan(x))\n",
    "print(\"y'=\", sp.simplify(sp.diff(y,x))) # sin(2x) = 2*sin(x)*cos(x)\n",
    "\n",
    "# (d) y = exp(x**(1/2))\n",
    "x = sp.Symbol('x')\n",
    "y = sp.exp(x**0.5)\n",
    "print(\"y'=\", sp.simplify(sp.diff(y,x)))"
   ]
  },
  {
   "cell_type": "code",
   "execution_count": 24,
   "metadata": {},
   "outputs": [
    {
     "name": "stdout",
     "output_type": "stream",
     "text": [
      "k = (-8*exp(2*x)*sin(3*x) - 12*exp(2*x)*cos(3*x))/(2*exp(2*x)*sin(3*x) + 3*exp(2*x)*cos(3*x))\n",
      "(k + 4)*(2*sin(3*x) + 3*cos(3*x))*exp(2*x)\n"
     ]
    }
   ],
   "source": [
    "# 연습문제 11\n",
    "x = sp.Symbol('x')\n",
    "fx = sp.exp(2*x)*sp.sin(3*x)\n",
    "dfx = sp.diff(fx, x)\n",
    "ddfx = sp.diff(sp.diff(fx, x), x)\n",
    "print(\"k =\", (-ddfx-13*fx)/dfx)\n",
    "\n",
    "k = sp.Symbol('k')\n",
    "print(sp.factor(ddfx+k*dfx+13*fx))"
   ]
  },
  {
   "cell_type": "code",
   "execution_count": 25,
   "metadata": {},
   "outputs": [
    {
     "data": {
      "image/png": "[encoded data removed]",
      "text/plain": [
       "<Figure size 432x288 with 1 Axes>"
      ]
     },
     "metadata": {
      "needs_background": "light"
     },
     "output_type": "display_data"
    },
    {
     "data": {
      "image/png": "[encoded data removed]",
      "text/plain": [
       "<Figure size 432x288 with 1 Axes>"
      ]
     },
     "metadata": {
      "needs_background": "light"
     },
     "output_type": "display_data"
    }
   ],
   "source": [
    "# 연습문제 17번\n",
    "import numpy as np\n",
    "import matplotlib.pyplot as plt\n",
    "# (a) f(x)=e^{-x^2}\n",
    "x = np.linspace(-2, 2, 401)\n",
    "fx = np.exp(-x*x)\n",
    "plt.plot(x, fx)\n",
    "plt.show()\n",
    "\n",
    "# (b) g(x)=x^{2/3}\n",
    "x = np.linspace(-4, 4, 801)\n",
    "gx = (x**2)**(1/3)\n",
    "plt.plot(x,gx)\n",
    "plt.show()"
   ]
  },
  {
   "cell_type": "code",
   "execution_count": 40,
   "metadata": {},
   "outputs": [
    {
     "data": {
      "image/png": "[encoded data removed]",
      "text/plain": [
       "<Figure size 432x288 with 1 Axes>"
      ]
     },
     "metadata": {
      "needs_background": "light"
     },
     "output_type": "display_data"
    }
   ],
   "source": [
    "# Ch4 Programming Practice\n",
    "# import numpy as np\n",
    "# import matplotlib.pyplot as plt\n",
    "\n",
    "# Dpf, D0f, Dmf, f\n",
    "def Dpf(F, a, h):\n",
    "#     print(F(0)) # def f(x)\n",
    "#     print(f)\n",
    "    return (F(a+h)-F(a))/h\n",
    "\n",
    "def D0f(F, a, h):\n",
    "    return (F(a+h)-F(a-h))/(2*h)\n",
    "\n",
    "def Dmf(F, a, h):\n",
    "    return (F(a)-F(a-h))/h\n",
    "\n",
    "def f(x):\n",
    "    return np.exp(x)\n",
    "\n",
    "def df(x):\n",
    "    return 2*x*np.exp(x)\n",
    "\n",
    "# Main function\n",
    "a = 2\n",
    "\n",
    "h_list = []\n",
    "fmDpf_list = []\n",
    "fmD0f_list = []\n",
    "fmDmf_list = []\n",
    "\n",
    "for i in range(11):\n",
    "    h = (1.0/2.0)**i\n",
    "    h_list.append(h)\n",
    "    \n",
    "    fmDpf = np.abs(f(a)-Dpf(f,a,h))\n",
    "    fmD0f = np.abs(f(a)-D0f(f,a,h))\n",
    "    fmDmf = np.abs(f(a)-Dmf(f,a,h))\n",
    "\n",
    "    fmDpf_list.append(fmDpf)\n",
    "    fmD0f_list.append(fmD0f)\n",
    "    fmDmf_list.append(fmDmf)\n",
    "\n",
    "# Visualization\n",
    "graph1, = plt.loglog(h_list, fmDpf_list, 'o-') # loglog : 두 개의 로그 축 설정\n",
    "graph2, = plt.loglog(h_list, fmD0f_list, 'o-') # ',' 생략하면 warning \n",
    "graph3, = plt.loglog(h_list, fmDmf_list, 'o-')\n",
    "\n",
    "# 데이터와 라벨 직접 매칭\n",
    "# loc : 범례 위치\n",
    "plt.legend(handles=(graph1, graph2, graph3), labels=(r'$|D_+f(a)-f(a)|$', r'$|D_0f(a)-f(a)|$', r'$|D_-f(a)-f(a)|$'), loc='lower right')\n",
    "plt.show()"
   ]
  }
 ],
 "metadata": {
  "kernelspec": {
   "display_name": "Python 3",
   "language": "python",
   "name": "python3"
  },
  "language_info": {
   "codemirror_mode": {
    "name": "ipython",
    "version": 3
   },
   "file_extension": ".py",
   "mimetype": "text/x-python",
   "name": "python",
   "nbconvert_exporter": "python",
   "pygments_lexer": "ipython3",
   "version": "3.6.9"
  }
 },
 "nbformat": 4,
 "nbformat_minor": 4
}
