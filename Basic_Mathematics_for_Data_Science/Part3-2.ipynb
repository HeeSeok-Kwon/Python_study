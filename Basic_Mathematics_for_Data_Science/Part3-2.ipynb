{
 "cells": [
  {
   "cell_type": "code",
   "execution_count": 2,
   "metadata": {},
   "outputs": [
    {
     "name": "stdout",
     "output_type": "stream",
     "text": [
      "AB= [[13  4]\n",
      " [19  4]]\n",
      "BA= [[ 6  7  1]\n",
      " [ 0  2  2]\n",
      " [30 39  9]]\n"
     ]
    }
   ],
   "source": [
    "# Ex 7-3\n",
    "import numpy as np\n",
    "A = np.array([[2,3,1],[4,5,1]])\n",
    "B = np.array([[-1,2],[4,-2],[3,6]])\n",
    "print(\"AB=\",np.dot(A,B)) # 내적, 행렬 곱셈\n",
    "print(\"BA=\",np.dot(B,A))"
   ]
  },
  {
   "cell_type": "code",
   "execution_count": 5,
   "metadata": {},
   "outputs": [
    {
     "name": "stdout",
     "output_type": "stream",
     "text": [
      "AB= [[ 1.00000000e+00  2.22044605e-16]\n",
      " [-8.88178420e-16  1.00000000e+00]]\n",
      "BA= [[ 1.00000000e+00  0.00000000e+00]\n",
      " [-3.33066907e-16  1.00000000e+00]]\n"
     ]
    }
   ],
   "source": [
    "# Ex 7-5\n",
    "# import numpy as np\n",
    "A = np.array([[5,2],[7,4]])\n",
    "B = np.array([[4/6,-2/6],[-7/6,5/6]])\n",
    "print(\"AB=\",np.dot(A,B))\n",
    "print(\"BA=\",np.dot(B,A))"
   ]
  },
  {
   "cell_type": "code",
   "execution_count": 7,
   "metadata": {},
   "outputs": [
    {
     "name": "stdout",
     "output_type": "stream",
     "text": [
      "Determinant of A= -7.999999999999998\n",
      "Inverse of A= [[-0.875  0.375]\n",
      " [ 0.625 -0.125]]\n",
      "Determinant of B= 0.0\n"
     ]
    }
   ],
   "source": [
    "# 7-6\n",
    "# import numpy as np\n",
    "A = np.array([[1,3],[5,7]])\n",
    "B = np.array([[4,-6],[-8,12]])\n",
    "detA = np.linalg.det(A) # 행렬의 행렬식\n",
    "Ainv = np.linalg.inv(A) # 행렬의 역행렬\n",
    "detB = np.linalg.det(B)\n",
    "print(\"Determinant of A=\", detA)\n",
    "print(\"Inverse of A=\", Ainv)\n",
    "print(\"Determinant of B=\", detB)"
   ]
  },
  {
   "cell_type": "code",
   "execution_count": 8,
   "metadata": {},
   "outputs": [
    {
     "name": "stdout",
     "output_type": "stream",
     "text": [
      "Determinant of A= -359.9999999999997\n"
     ]
    }
   ],
   "source": [
    "# 7-7\n",
    "#import numpy as np\n",
    "A = np.array([[8,1,6],[3,5,7],[4,9,2]])\n",
    "detA = np.linalg.det(A)\n",
    "print(\"Determinant of A=\", detA)"
   ]
  },
  {
   "cell_type": "code",
   "execution_count": 9,
   "metadata": {},
   "outputs": [
    {
     "name": "stdout",
     "output_type": "stream",
     "text": [
      "Determinant of A= 95.99999999999999\n"
     ]
    }
   ],
   "source": [
    "# 7-8\n",
    "# import numpy as np\n",
    "A = np.array([[3,-1,-1,0],[-1,4,0,-1],[-1,0,4,-1],[0,-1,-1,3]])\n",
    "detA = np.linalg.det(A)\n",
    "print(\"Determinant of A=\", detA)"
   ]
  },
  {
   "cell_type": "code",
   "execution_count": 11,
   "metadata": {},
   "outputs": [
    {
     "name": "stdout",
     "output_type": "stream",
     "text": [
      "Inverse of A= [[ 18. -24.   5.]\n",
      " [-15.  20.  -4.]\n",
      " [  4.  -5.   1.]]\n"
     ]
    }
   ],
   "source": [
    "# 7-10\n",
    "# import numpy as np\n",
    "A = np.array([[0,1,4],[1,2,3],[5,6,0]])\n",
    "detA = np.linalg.inv(A)\n",
    "print(\"Inverse of A=\", detA)"
   ]
  },
  {
   "cell_type": "code",
   "execution_count": 14,
   "metadata": {},
   "outputs": [
    {
     "name": "stdout",
     "output_type": "stream",
     "text": [
      "[[3, 5], [4, 6], [5, 7]]\n",
      "원소들의 합: 30\n"
     ]
    }
   ],
   "source": [
    "# 연습문제 1\n",
    "res = 0\n",
    "arr = []\n",
    "for i in range(0,3):\n",
    "    arr.append([])\n",
    "    for j in range(0,2):\n",
    "        buf = (i+1)+2*(j+1) \n",
    "        arr[i].append(buf)\n",
    "        res += buf\n",
    "        \n",
    "print(arr)\n",
    "print(\"원소들의 합:\",res)"
   ]
  },
  {
   "cell_type": "code",
   "execution_count": 15,
   "metadata": {},
   "outputs": [
    {
     "name": "stdout",
     "output_type": "stream",
     "text": [
      "(a) AB= [[ 10 -19  28]\n",
      " [  2  -8  14]]\n",
      "(b) AB= [[ 4  5  6]\n",
      " [ 8 10 12]\n",
      " [12 15 18]]\n"
     ]
    }
   ],
   "source": [
    "# 연습문제 3\n",
    "# (a)\n",
    "A = np.array([[1,3,5],[3,2,1]])\n",
    "B = np.array([[1,-4,7],[-2,5,-8],[3,-6,9]])\n",
    "print(\"(a) AB=\",np.dot(A,B))\n",
    "\n",
    "# (B)\n",
    "A = np.array([[1],[2],[3]])\n",
    "B = np.array([[4,5,6]])\n",
    "print(\"(b) AB=\",np.dot(A,B))"
   ]
  },
  {
   "cell_type": "code",
   "execution_count": 19,
   "metadata": {},
   "outputs": [
    {
     "name": "stdout",
     "output_type": "stream",
     "text": [
      "A^2 - (a+d)A + (ad-bc)I= Matrix([[0, 0], [0, 0]])\n",
      "A^2021= [[ 1  3]\n",
      " [-1 -2]]\n"
     ]
    }
   ],
   "source": [
    "# 연습문제 5\n",
    "import sympy as sp\n",
    "a = sp.Symbol('a')\n",
    "b = sp.Symbol('b')\n",
    "c = sp.Symbol('c')\n",
    "d = sp.Symbol('d')\n",
    "\n",
    "A = sp.Matrix([[a,b],[c,d]])\n",
    "I = sp.Matrix([[1,0],[0,1]])\n",
    "\n",
    "print(\"A^2 - (a+d)A + (ad-bc)I=\",sp.simplify(A**2-(a+d)*A+(a*d-b*c)*I))\n",
    "\n",
    "\n",
    "# (b)\n",
    "A = np.array([[-2,-3],[1,1]])\n",
    "buf = A\n",
    "for i in range(2020): # 제곱은 loop 1번, 2021제곱은 loop 2020번\n",
    "    A = np.dot(A,buf)\n",
    "#     print(A)\n",
    "print(\"A^2021=\", A)"
   ]
  },
  {
   "cell_type": "code",
   "execution_count": 21,
   "metadata": {},
   "outputs": [
    {
     "name": "stdout",
     "output_type": "stream",
     "text": [
      "Determinant of A= 6.0\n",
      "Inverse of A= [[ 1.         -2.          2.33333333]\n",
      " [ 0.          0.5        -1.        ]\n",
      " [ 0.          0.          0.33333333]]\n",
      "Determinant of B= 23.999999999999993\n",
      "Inverse of B= [[1.         0.         0.         0.        ]\n",
      " [0.         0.5        0.         0.        ]\n",
      " [0.         0.         0.33333333 0.        ]\n",
      " [0.         0.         0.         0.25      ]]\n"
     ]
    }
   ],
   "source": [
    "# 연습문제 7\n",
    "A = np.array([[1,4,5],[0,2,6],[0,0,3]])\n",
    "B = np.array([[1,0,0,0],[0,2,0,0],[0,0,3,0],[0,0,0,4]])\n",
    "print(\"Determinant of A=\",np.linalg.det(A))\n",
    "print(\"Inverse of A=\",np.linalg.inv(A))\n",
    "print(\"Determinant of B=\",np.linalg.det(B))\n",
    "print(\"Inverse of B=\",np.linalg.inv(B))"
   ]
  },
  {
   "cell_type": "code",
   "execution_count": 53,
   "metadata": {},
   "outputs": [
    {
     "name": "stdout",
     "output_type": "stream",
     "text": [
      "x= [-9.  2.  4.  5.]\n"
     ]
    }
   ],
   "source": [
    "# Ch Programming Practice\n",
    "# import numpy as np\n",
    "# Matrix A and b\n",
    "A = np.array([[1.0,-1.0,2.0,1.0],[5.0,8.0,6.0,3.0],[4.0,2.0,5.0,3.0],[3.0,2.0,1.0,4.0]])\n",
    "b = np.array([2.0,10.0,3.0,1.0])\n",
    "x = np.zeros((4,))\n",
    "\n",
    "# Forward Elimination\n",
    "for k in range(0,3):\n",
    "#     print(\"k=\",k)\n",
    "    for i in range(k+1,4):\n",
    "        xmult = A[i][k]/A[k][k] # 2행/1행, 3행/1행, 4행/1행 ...\n",
    "#         print(xmult)\n",
    "        for j in range(k,4):\n",
    "#             print(A[i][j])\n",
    "            A[i][j] = A[i][j]-xmult*A[k][j]\n",
    "#         print(A)\n",
    "        b[i]=b[i]-xmult*b[k]\n",
    "    \n",
    "x[3] = b[3]/A[3][3]\n",
    "# print(x[3], b[3])\n",
    "# Back substitution\n",
    "for i in range(2,-1,-1): # 2, 1, 0\n",
    "    res = b[i]\n",
    "    for j in range(i+1,4): # 3,4 / 2,3,4 / 1,2,3,4\n",
    "        res -= (A[i][j]*x[j])\n",
    "    x[i] = res/A[i][i]\n",
    "# Result\n",
    "print(\"x=\",x)\n",
    "# 원소를 정수로 설정하면 정수연산으로 처리된다. -- 유의할 것"
   ]
  }
 ],
 "metadata": {
  "kernelspec": {
   "display_name": "Python 3",
   "language": "python",
   "name": "python3"
  },
  "language_info": {
   "codemirror_mode": {
    "name": "ipython",
    "version": 3
   },
   "file_extension": ".py",
   "mimetype": "text/x-python",
   "name": "python",
   "nbconvert_exporter": "python",
   "pygments_lexer": "ipython3",
   "version": "3.6.9"
  }
 },
 "nbformat": 4,
 "nbformat_minor": 4
}
