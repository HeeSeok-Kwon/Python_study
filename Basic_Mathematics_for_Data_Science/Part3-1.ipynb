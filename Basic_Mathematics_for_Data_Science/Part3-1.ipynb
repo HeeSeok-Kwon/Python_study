{
 "cells": [
  {
   "cell_type": "code",
   "execution_count": 3,
   "metadata": {},
   "outputs": [
    {
     "name": "stdout",
     "output_type": "stream",
     "text": [
      "a dot b = 11\n",
      "a dot b = -6\n"
     ]
    }
   ],
   "source": [
    "# Ex 6-15\n",
    "\n",
    "import numpy as np\n",
    "\n",
    "# (a) a=(1,2), b=(3,4)\n",
    "a = np.array([1,2])\n",
    "b = np.array([3,4])\n",
    "print(\"a dot b =\", np.dot(a,b))\n",
    "\n",
    "# (b) a=(1,2,3), b=(0,2,-3)\n",
    "a = np.array([1,3,4])\n",
    "b = np.array([0,2,-3])\n",
    "print(\"a dot b =\", np.dot(a,b))"
   ]
  },
  {
   "cell_type": "code",
   "execution_count": 5,
   "metadata": {},
   "outputs": [
    {
     "name": "stdout",
     "output_type": "stream",
     "text": [
      "(a) a cross b= [ 1 -9 23]\n",
      "(b) a cross b= [ 0  0 -1]\n"
     ]
    }
   ],
   "source": [
    "# Ex 6-18\n",
    "\n",
    "# import numpy as np\n",
    "\n",
    "# (a) a=(4,3,1), b=(-5,2,1)\n",
    "a = np.array([4,3,1])\n",
    "b = np.array([-5,2,1])\n",
    "print(\"(a) a cross b=\", np.cross(a,b))\n",
    "\n",
    "# (b) a=(1,2), b(3,5)\n",
    "a = np.array([1,2,0])\n",
    "b = np.array([3,5,0])\n",
    "print(\"(b) a cross b=\", np.cross(a,b))"
   ]
  },
  {
   "cell_type": "code",
   "execution_count": 6,
   "metadata": {},
   "outputs": [
    {
     "name": "stdout",
     "output_type": "stream",
     "text": [
      "PQ= [0 4 5]\n",
      "PR= [ 1 -4  2]\n",
      "PQ cross PR= [28  5 -4]\n"
     ]
    }
   ],
   "source": [
    "# Ex 6-19\n",
    "\n",
    "# import numpy as np\n",
    "\n",
    "P = np.array([1,-1,1])\n",
    "Q = np.array([1,3,6])\n",
    "R = np.array([2,-5,3])\n",
    "\n",
    "PQ = Q-P\n",
    "PR = R-P\n",
    "print(\"PQ=\",PQ)\n",
    "print(\"PR=\",PR)\n",
    "print(\"PQ cross PR=\", np.cross(PQ,PR))"
   ]
  },
  {
   "cell_type": "code",
   "execution_count": 9,
   "metadata": {},
   "outputs": [
    {
     "name": "stdout",
     "output_type": "stream",
     "text": [
      "(a) a cross b= [  0   0 -21]\n",
      "(b) a cross b= [-36  -2   8]\n"
     ]
    }
   ],
   "source": [
    "# p307 확인문제 5\n",
    "\n",
    "# (a)\n",
    "a = np.array([1,5,0])\n",
    "b = np.array([4,-1,0])\n",
    "print(\"(a) a cross b=\", np.cross(a,b))\n",
    "\n",
    "# (b)\n",
    "a = np.array([1,2,5])\n",
    "b = np.array([-1,6,-3])\n",
    "print(\"(b) a cross b=\", np.cross(a,b))"
   ]
  },
  {
   "cell_type": "code",
   "execution_count": 11,
   "metadata": {},
   "outputs": [
    {
     "name": "stdout",
     "output_type": "stream",
     "text": [
      "(a+b)dot(c)= -13\n",
      "a dot c + b dot c = -13\n",
      "ka dot b = 93\n",
      "k(a dot b) = 93\n",
      "a dot kb = 93\n"
     ]
    }
   ],
   "source": [
    "# 연습문제 10\n",
    "a = np.array([1,2,3])\n",
    "b = np.array([5,-2,10])\n",
    "c = np.array([0, 9, -1])\n",
    "\n",
    "# (a) \n",
    "print(\"(a+b)dot(c)=\", np.dot(a+b,c))\n",
    "print(\"a dot c + b dot c =\", np.dot(a,c)+np.dot(b,c))\n",
    "\n",
    "# (b) k = 3\n",
    "k = 3\n",
    "ka = a*k\n",
    "kb = b*k\n",
    "print(\"ka dot b =\", np.dot(ka,b))\n",
    "print(\"k(a dot b) =\", k*np.dot(a,b))\n",
    "print(\"a dot kb =\", np.dot(a,kb))"
   ]
  },
  {
   "cell_type": "code",
   "execution_count": 12,
   "metadata": {},
   "outputs": [
    {
     "name": "stdout",
     "output_type": "stream",
     "text": [
      "The answer is 0\n"
     ]
    }
   ],
   "source": [
    "# 연습문제 11\n",
    "a = np.array([1,2,3])\n",
    "b = np.array([5,-2,10])\n",
    "print(\"The answer is\", np.dot(np.cross(a,b),b))"
   ]
  },
  {
   "cell_type": "code",
   "execution_count": 20,
   "metadata": {},
   "outputs": [
    {
     "name": "stdout",
     "output_type": "stream",
     "text": [
      "|a cross b|^2 = 313.99999999999994\n",
      "|a|^2*|b|^2-(a dot b)^2 = 314.0\n",
      "|aXb|^2= 313.99999999999994\n",
      "|a|^2|b|^2-(ab)^2= 314.0\n"
     ]
    }
   ],
   "source": [
    "# 연습문제 13\n",
    "A = np.array([1,2,3])\n",
    "B = np.array([2,3,0])\n",
    "C = np.array([-4,0,2])\n",
    "\n",
    "AB = B - A\n",
    "AC = C - A\n",
    "\n",
    "size_AB = np.sqrt(AB[0]**2 + AB[1]**2 + AB[2]**2)\n",
    "size_AC = np.sqrt(AC[0]**2 + AC[1]**2 + AC[2]**2)\n",
    "dot = np.dot(AB, AC)\n",
    "size_cross = (AB[1]*AC[2]-AB[2]*AC[1])**2 + (AB[2]*AC[0]-AB[0]*AC[2])**2 + (AB[0]*AC[1]-AB[1]*AC[0])**2\n",
    "size_cross = np.sqrt(size_cross)\n",
    "print(\"|a cross b|^2 =\", size_cross**2)\n",
    "print(\"|a|^2*|b|^2-(a dot b)^2 =\", size_AB**2*size_AC**2-dot**2)\n",
    "\n",
    "print(\"|aXb|^2=\", (np.linalg.norm(np.cross(AB,AC)))**2)\n",
    "print(\"|a|^2|b|^2-(ab)^2=\",(np.linalg.norm(AB)**2)*(np.linalg.norm(AC)**2)-(np.dot(AB,AC))**2)"
   ]
  },
  {
   "cell_type": "code",
   "execution_count": 29,
   "metadata": {},
   "outputs": [
    {
     "name": "stdout",
     "output_type": "stream",
     "text": [
      "|v1|= 3.7416573867739413\n",
      "|v2|= 8.831760866327848\n",
      "v1 dot v2= -9\n",
      "v2 dot v1= -9\n",
      "v1Xv2=( -29 , 13 , 1 )\n",
      "v2Xv1=( 29 , -13 , -1 )\n"
     ]
    }
   ],
   "source": [
    "# Ch 6. Programming practice\n",
    "import numpy as np\n",
    "\n",
    "class VECTOR3D:\n",
    "    def __init__(self,x,y,z):\n",
    "        self.x = x\n",
    "        self.y = y\n",
    "        self.z = z\n",
    "    def magnitude(self):\n",
    "        # |(x,y,z)|=(x*x+y*y+z*z)\n",
    "        return np.sqrt(self.x**2+self.y**2+self.z**2)\n",
    "    \n",
    "    def inner_product(self, v):\n",
    "        return self.x*v.x+self.y*v.y+self.z*v.z\n",
    "    \n",
    "    def cross_product(self, v):\n",
    "        return VECTOR3D(self.y*v.z-self.z*v.y, self.z*v.x-self.x*v.z, self.x*v.y-self.y*v.x)\n",
    "# Test\n",
    "v1 = VECTOR3D(1,2,3)\n",
    "v2 = VECTOR3D(2,5,-7)\n",
    "print(\"|v1|=\",v1.magnitude())\n",
    "print(\"|v2|=\",v2.magnitude())\n",
    "\n",
    "print(\"v1 dot v2=\",v1.inner_product(v2))\n",
    "print(\"v2 dot v1=\",v2.inner_product(v1))\n",
    "\n",
    "v1Xv2 = v1.cross_product(v2)\n",
    "print(\"v1Xv2=(\",v1Xv2.x,\",\",v1Xv2.y,\",\",v1Xv2.z,\")\")\n",
    "\n",
    "v2Xv1 = v2.cross_product(v1)\n",
    "print(\"v2Xv1=(\",v2Xv1.x,\",\",v2Xv1.y,\",\",v2Xv1.z,\")\")"
   ]
  }
 ],
 "metadata": {
  "kernelspec": {
   "display_name": "Python 3",
   "language": "python",
   "name": "python3"
  },
  "language_info": {
   "codemirror_mode": {
    "name": "ipython",
    "version": 3
   },
   "file_extension": ".py",
   "mimetype": "text/x-python",
   "name": "python",
   "nbconvert_exporter": "python",
   "pygments_lexer": "ipython3",
   "version": "3.6.9"
  }
 },
 "nbformat": 4,
 "nbformat_minor": 4
}
