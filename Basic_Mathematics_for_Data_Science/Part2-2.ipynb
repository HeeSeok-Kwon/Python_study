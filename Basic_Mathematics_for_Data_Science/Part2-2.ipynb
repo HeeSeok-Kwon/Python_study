{
 "cells": [
  {
   "cell_type": "code",
   "execution_count": 1,
   "metadata": {},
   "outputs": [
    {
     "name": "stdout",
     "output_type": "stream",
     "text": [
      "F(x)= x**3\n",
      "G(x)= exp(x)\n"
     ]
    }
   ],
   "source": [
    "# Ex 5-1\n",
    "import sympy as sp\n",
    "\n",
    "# (a) f(x) = 3*x**2\n",
    "x = sp.Symbol('x')\n",
    "fx = 3*x**2\n",
    "print(\"F(x)=\", sp.integrate(fx,x))\n",
    "\n",
    "# (b) g(x) = e^x\n",
    "x = sp.Symbol('x')\n",
    "gx = sp.exp(x)\n",
    "print('G(x)=', sp.integrate(gx, x))"
   ]
  },
  {
   "cell_type": "code",
   "execution_count": 4,
   "metadata": {},
   "outputs": [
    {
     "name": "stdout",
     "output_type": "stream",
     "text": [
      "F(x)= 2*x**3/3 - 3*x**2/2\n",
      "G(x)= x**3/3 - 2*x**2 + 3*x\n"
     ]
    }
   ],
   "source": [
    "# Ex 5-2\n",
    "# import sympy as sp\n",
    "\n",
    "# (a) f(x) = 2*x**2 - x*3\n",
    "x = sp.Symbol('x')\n",
    "fx = 2*x**2 - x*3\n",
    "print(\"F(x)=\", sp.integrate(fx, x))\n",
    "\n",
    "# (b) g(x) = (x-1)*(x-3)\n",
    "x = sp.Symbol('x')\n",
    "gx = (x-1)*(x-3)\n",
    "print(\"G(x)=\", sp.integrate(gx, x))"
   ]
  },
  {
   "cell_type": "code",
   "execution_count": 6,
   "metadata": {},
   "outputs": [
    {
     "name": "stdout",
     "output_type": "stream",
     "text": [
      "F(x)= x**2\n",
      "G(x)= log(x)\n"
     ]
    }
   ],
   "source": [
    "# p225 확인문제 1번\n",
    "\n",
    "# (a) f(x) = 2*x\n",
    "x = sp.Symbol('x')\n",
    "fx = 2*x\n",
    "print(\"F(x)=\", sp.integrate(fx, x))\n",
    "\n",
    "# (b) g(x) = 1/x\n",
    "x = sp.Symbol('x')\n",
    "gx = 1/x\n",
    "print(\"G(x)=\", sp.integrate(gx, x))"
   ]
  },
  {
   "cell_type": "code",
   "execution_count": 8,
   "metadata": {},
   "outputs": [
    {
     "name": "stdout",
     "output_type": "stream",
     "text": [
      "F(x)= x**2/2 + log(x) + 1/x\n",
      "G(x)= 2*sqrt(x) + 4*log(x)\n"
     ]
    }
   ],
   "source": [
    "# Ex 5-4\n",
    "# import sympy as sp\n",
    "\n",
    "# (a) f(x) = x+1/x-1/(x**2)\n",
    "x = sp.Symbol('x')\n",
    "fx = x+1/x-1/(x**2)\n",
    "print(\"F(x)=\", sp.integrate(fx ,x))\n",
    "\n",
    "# (b) g(x) = (sqrt(x)+4)/x\n",
    "x = sp.Symbol('x')\n",
    "gx = (sp.sqrt(x)+4)/x\n",
    "print(\"G(x)=\", sp.integrate(gx, x))"
   ]
  },
  {
   "cell_type": "code",
   "execution_count": 12,
   "metadata": {},
   "outputs": [
    {
     "name": "stdout",
     "output_type": "stream",
     "text": [
      "F(x)= -2*sin(x) + tan(x)\n",
      "G(x)= 2*x - 2*sin(x)\n"
     ]
    }
   ],
   "source": [
    "# Ex 5-5\n",
    "# import sympy as sp\n",
    "\n",
    "# (a) f(x) = tan(x)*tan(x)+1-2*cos(x)\n",
    "x = sp.Symbol('x')\n",
    "fx = sp.tan(x)*sp.tan(x)+1-2*sp.cos(x)\n",
    "print(\"F(x)=\", sp.simplify(sp.integrate(fx, x)))\n",
    "\n",
    "# (b) g(x) = 2*sin(x)*sin(x)/(1+cos(x))\n",
    "x = sp.Symbol('x')\n",
    "gx = 2*sp.sin(x)*sp.sin(x)/(1+sp.cos(x))\n",
    "print(\"G(x)=\", sp.simplify(sp.integrate(gx, x)))"
   ]
  },
  {
   "cell_type": "code",
   "execution_count": 16,
   "metadata": {},
   "outputs": [
    {
     "name": "stdout",
     "output_type": "stream",
     "text": [
      "F(x)= -3*3**x/log(3) + exp(x)\n",
      "G(x)= 2*x**(3/2)/3 + exp(x)\n"
     ]
    }
   ],
   "source": [
    "# Ex 5-6\n",
    "# import sympy as sp\n",
    "\n",
    "# (a) f(x) = exp(x) - 3**(x+1)\n",
    "x = sp.Symbol('x')\n",
    "fx = sp.exp(x) - 3**(x+1)\n",
    "print(\"F(x)=\", sp.simplify(sp.integrate(fx, x)))\n",
    "\n",
    "# (b) g(x) = (exp(2*x)-x)/(exp(x)-sqrt(x))\n",
    "x = sp.Symbol('x')\n",
    "gx = (sp.exp(2*x)-x)/(sp.exp(x)-sp.sqrt(x))\n",
    "print(\"G(x)=\", sp.simplify(sp.integrate(gx, x)))"
   ]
  },
  {
   "cell_type": "code",
   "execution_count": 19,
   "metadata": {},
   "outputs": [
    {
     "name": "stdout",
     "output_type": "stream",
     "text": [
      "F(x)= x*(81*x**4 + 270*x**3 + 360*x**2 + 240*x + 80)/5\n",
      "G(x)= sin(2*x + 1)/2\n"
     ]
    }
   ],
   "source": [
    "# Ex 5-7\n",
    "# import sympy as sp\n",
    "\n",
    "# (a) f(x) = (3*x+2)**4\n",
    "x = sp.Symbol('x')\n",
    "fx = (3*x+2)**4\n",
    "print(\"F(x)=\", sp.simplify(sp.integrate(fx, x)))\n",
    "\n",
    "# (b) g(x) = cos(2*x+1)\n",
    "x = sp.Symbol('x')\n",
    "gx = sp.cos(2*x+1)\n",
    "print(\"G(x)=\", sp.simplify(sp.integrate(gx, x)))"
   ]
  },
  {
   "cell_type": "code",
   "execution_count": 22,
   "metadata": {},
   "outputs": [
    {
     "name": "stdout",
     "output_type": "stream",
     "text": [
      "F(x)= exp(x**2 + 1)\n",
      "G(x)= 1/(2*cos(x)**2)\n"
     ]
    }
   ],
   "source": [
    "# Ex 5-8\n",
    "# import sympy as sp\n",
    "\n",
    "# (a) f(x) = 2*x*exp(x**2+1)\n",
    "x = sp.Symbol('x')\n",
    "fx = 2*x*sp.exp(x**2+1)\n",
    "print(\"F(x)=\", sp.simplify(sp.integrate(fx, x)))\n",
    "\n",
    "# (b) g(x) = tan(x)/cos(x)*cos(x)\n",
    "x = sp.Symbol('x')\n",
    "gx = sp.tan(x)/(sp.cos(x)*sp.cos(x))\n",
    "print(\"G(x)=\", sp.simplify(sp.integrate(gx, x)))"
   ]
  },
  {
   "cell_type": "code",
   "execution_count": 24,
   "metadata": {},
   "outputs": [
    {
     "name": "stdout",
     "output_type": "stream",
     "text": [
      "F(x)= log(x**3 + 2)\n",
      "G(x)= log(log(x))\n"
     ]
    }
   ],
   "source": [
    "# Ex 5-9\n",
    "# import sympy as sp\n",
    "\n",
    "# (a) f(x) = 3*x**2/(x**3+2)\n",
    "x = sp.Symbol('x')\n",
    "fx = 3*x**2/(x**3+2)\n",
    "print(\"F(x)=\", sp.simplify(sp.integrate(fx, x)))\n",
    "\n",
    "# (b) g(x) = 1/(x*log(x))\n",
    "x = sp.Symbol('x')\n",
    "gx = 1/(x*sp.log(x))\n",
    "print(\"G(x)=\", sp.simplify(sp.integrate(gx, x)))"
   ]
  },
  {
   "cell_type": "code",
   "execution_count": 26,
   "metadata": {},
   "outputs": [
    {
     "name": "stdout",
     "output_type": "stream",
     "text": [
      "F(x)= 2*(x - 1)*exp(x)\n",
      "G(x)= x**2*(2*log(x) - 1)/4\n"
     ]
    }
   ],
   "source": [
    "# Ex 5-10\n",
    "# import sympy as sp\n",
    "\n",
    "# (a) f(x) = 2*x*exp(x)\n",
    "x = sp.Symbol('x')\n",
    "fx = 2*x*sp.exp(x)\n",
    "print(\"F(x)=\", sp.simplify(sp.integrate(fx, x)))\n",
    "\n",
    "# (b) g(x) = x*log(x)\n",
    "x = sp.Symbol('x')\n",
    "gx = x*sp.log(x)\n",
    "print(\"G(x)=\", sp.simplify(sp.integrate(gx, x)))"
   ]
  },
  {
   "cell_type": "code",
   "execution_count": 28,
   "metadata": {},
   "outputs": [
    {
     "name": "stdout",
     "output_type": "stream",
     "text": [
      "F(x)= -(-sin(x) + cos(x))*exp(x)/2\n"
     ]
    }
   ],
   "source": [
    "# Ex 5-11\n",
    "# import sympy as sp\n",
    "\n",
    "# f(x) = exp(x)*sin(x)\n",
    "x = sp.Symbol('x')\n",
    "fx = sp.exp(x)*sp.sin(x)\n",
    "print(\"F(x)=\", sp.factor(sp.integrate(fx, x))) # sp.factor --> 인수분해"
   ]
  },
  {
   "cell_type": "code",
   "execution_count": 31,
   "metadata": {},
   "outputs": [
    {
     "name": "stdout",
     "output_type": "stream",
     "text": [
      "(a): 10/3\n",
      "(b): -1\n"
     ]
    }
   ],
   "source": [
    "# Ex 5-15\n",
    "# inport sympy as sp\n",
    "\n",
    "# (a) f(x) = 2*x**2-x\n",
    "x = sp.Symbol('x')\n",
    "fx = 2*x**2-x\n",
    "print(\"(a):\", sp.integrate(fx, (x, 0, 2)))\n",
    "\n",
    "# (b) g(x) = cos(x)\n",
    "x = sp.Symbol('x')\n",
    "gx = sp.cos(x)\n",
    "print(\"(b):\", sp.integrate(gx, (x, sp.pi/2, sp.pi)))"
   ]
  },
  {
   "cell_type": "code",
   "execution_count": 35,
   "metadata": {},
   "outputs": [
    {
     "name": "stdout",
     "output_type": "stream",
     "text": [
      "(a1): -9\n",
      "(a2): -9\n",
      "(b1): 5 - exp(2)\n",
      "(b2): 5 - exp(2)\n"
     ]
    }
   ],
   "source": [
    "# Ex 5-16\n",
    "# import sympy as sp\n",
    "\n",
    "# (a) f1(x) = x**3-x+1, f2(x) = x**3+x+1\n",
    "x = sp.Symbol('x')\n",
    "f1x = x**3-x+1\n",
    "f2x = x**3+x+1\n",
    "print(\"(a1):\", sp.integrate(f1x, (x, 0, 3))-sp.integrate(f2x, (x, 0, 3)))\n",
    "print(\"(a2):\", sp.integrate(f1x-f2x,(x,0,3)))\n",
    "\n",
    "# (b) g(x) = x**3-exp(x)\n",
    "x = sp.Symbol('x')\n",
    "gx = x**3-sp.exp(x)\n",
    "print(\"(b1):\", sp.integrate(gx,(x,0,1))+sp.integrate(gx, (x,1,2)))\n",
    "print(\"(b2):\", sp.integrate(gx,(x,0,2)))"
   ]
  },
  {
   "cell_type": "code",
   "execution_count": 37,
   "metadata": {},
   "outputs": [
    {
     "name": "stdout",
     "output_type": "stream",
     "text": [
      "(a): 10\n",
      "(b): -1 + E\n"
     ]
    }
   ],
   "source": [
    "# Ex 5-17\n",
    "# import sympy as sp\n",
    "\n",
    "# (a) f(x) = (2*x-1)**3\n",
    "x = sp.Symbol('x')\n",
    "fx = (2*x-1)**3\n",
    "print(\"(a):\", sp.integrate(fx, (x,0,2)))\n",
    "\n",
    "# (b) g(x) = 2*x*exp(x**2)\n",
    "x = sp.Symbol('x')\n",
    "gx = 2*x*sp.exp(x**2)\n",
    "print(\"(b):\", sp.integrate(gx, (x,0,1))) # -1 + E --> E : exp(1)"
   ]
  },
  {
   "cell_type": "code",
   "execution_count": 39,
   "metadata": {},
   "outputs": [
    {
     "name": "stdout",
     "output_type": "stream",
     "text": [
      "(a): 1 + exp(2)\n",
      "(b): -2\n"
     ]
    }
   ],
   "source": [
    "# Ex 5-18\n",
    "# import sympy as sp\n",
    "\n",
    "# (a) f(x) = log(x)\n",
    "x = sp.Symbol('x')\n",
    "fx = sp.log(x)\n",
    "print(\"(a):\", sp.integrate(fx, (x,1, sp.exp(2))))\n",
    "\n",
    "# (b) g(x) = x*cos(x)\n",
    "x = sp.Symbol('x')\n",
    "gx = x*sp.cos(x)\n",
    "print(\"(b):\", sp.integrate(gx, (x,0,sp.pi)))"
   ]
  },
  {
   "cell_type": "code",
   "execution_count": 48,
   "metadata": {},
   "outputs": [
    {
     "name": "stdout",
     "output_type": "stream",
     "text": [
      "F(x)= x*(x**3 - 6*x + 8)/4\n",
      "F(x)= exp(x) - log(x)\n",
      "F(x)= x*(x**3 - 6*x - 8)/4\n",
      "F(x)= (-4*3**x + 9**x + x*log(9))/(2*log(3))\n",
      "F(x)= (cos(2*x) - 5)*cos(x)/6\n",
      "F(x)= x**3*(3*log(x) - 1)/9\n"
     ]
    }
   ],
   "source": [
    "# 연습문제 1번\n",
    "\n",
    "# (a)\n",
    "x = sp.Symbol('x')\n",
    "fx = x**3-3*x+2\n",
    "print(\"F(x)=\", sp.simplify(sp.integrate(fx, x)))\n",
    "\n",
    "# (b)\n",
    "x = sp.Symbol('x')\n",
    "fx = sp.exp(x) - (1/x)\n",
    "print(\"F(x)=\", sp.simplify(sp.integrate(fx, x)))\n",
    "\n",
    "# (c)\n",
    "x = sp.Symbol('x')\n",
    "fx = ((x+1)**2)*(x-2) # x*(x**3 - 6*x - 8)/4\n",
    "print(\"F(x)=\", sp.simplify(sp.integrate(fx, x)))\n",
    "\n",
    "# (d)\n",
    "x = sp.Symbol('x')\n",
    "fx = (3**x-1)**2\n",
    "print(\"F(x)=\", sp.simplify(sp.integrate(fx, x)))\n",
    "\n",
    "# (e)\n",
    "x = sp.Symbol('x')\n",
    "fx = sp.sin(x)*sp.sin(x)*sp.sin(x)\n",
    "print(\"F(x)=\", sp.simplify(sp.integrate(fx, x)))\n",
    "\n",
    "# (f)\n",
    "x = sp.Symbol('x')\n",
    "fx = (x**2)*sp.log(x) # x**3*(3*log(x) - 1)/9\n",
    "print(\"F(x)=\", sp.simplify(sp.integrate(fx, x)))"
   ]
  },
  {
   "cell_type": "code",
   "execution_count": 54,
   "metadata": {},
   "outputs": [
    {
     "name": "stdout",
     "output_type": "stream",
     "text": [
      "F(x)= log(x) - log(x + 1)\n",
      "G(x)= log(x**2 - 3*x + 2)\n"
     ]
    }
   ],
   "source": [
    "# 연습문제 4\n",
    "x = sp.Symbol('x')\n",
    "# (a)\n",
    "fx = 1/(x*(x+1)) # () 잘 여닫자.\n",
    "print(\"F(x)=\",sp.simplify(sp.integrate(fx,x)))\n",
    "\n",
    "# (b)\n",
    "gx = (2*x-3)/(x**2-3*x+2)\n",
    "print(\"G(x)=\", sp.simplify(sp.integrate(gx,x)))"
   ]
  },
  {
   "cell_type": "code",
   "execution_count": 59,
   "metadata": {},
   "outputs": [
    {
     "name": "stdout",
     "output_type": "stream",
     "text": [
      "(a): -3 + exp(2)\n",
      "(b): 4\n",
      "(c): -sqrt(3) + 11*sqrt(11)/3\n",
      "(d): 1/2 + exp(pi/2)/2\n"
     ]
    }
   ],
   "source": [
    "# 연습문제 6\n",
    "\n",
    "x = sp.Symbol('x')\n",
    "t = sp.Symbol('t')\n",
    "\n",
    "# (a)\n",
    "fx = sp.exp(2*x)/(sp.exp(x)+1)\n",
    "ft = 1/(sp.exp(t)+1)\n",
    "print(\"(a):\", sp.integrate(fx,(x,0,2))-sp.integrate(ft,(t,0,2)))\n",
    "\n",
    "# (b)\n",
    "fx = sp.Abs(sp.sin(x))\n",
    "print(\"(b):\", sp.integrate(fx,(x,-sp.pi,sp.pi)))\n",
    "\n",
    "# (c)\n",
    "fx = x*sp.sqrt(x**2+2)\n",
    "print(\"(c):\", sp.integrate(fx,(x,1,3)))\n",
    "\n",
    "# (d)\n",
    "fx = sp.exp(x)*sp.sin(x)\n",
    "print(\"(d):\", sp.integrate(fx,(x,0,sp.pi/2)))"
   ]
  },
  {
   "cell_type": "code",
   "execution_count": 64,
   "metadata": {},
   "outputs": [
    {
     "name": "stdout",
     "output_type": "stream",
     "text": [
      "F(x) = a*(alpha - beta)**3/6\n"
     ]
    }
   ],
   "source": [
    "# 연습문제 11\n",
    "x = sp.Symbol('x')\n",
    "a = sp.Symbol('a')\n",
    "alpha = sp.Symbol('alpha')\n",
    "beta = sp.Symbol('beta')\n",
    "\n",
    "fx = a*(x-alpha)*(x-beta)\n",
    "\n",
    "print(\"F(x) =\", sp.factor(sp.integrate(fx,(x,alpha,beta)))) # 정적분 alpha ~ beta"
   ]
  },
  {
   "cell_type": "code",
   "execution_count": 60,
   "metadata": {},
   "outputs": [
    {
     "name": "stdout",
     "output_type": "stream",
     "text": [
      "The answer is pi/4\n"
     ]
    }
   ],
   "source": [
    "# 연습문제 13\n",
    "\n",
    "x = sp.Symbol('x')\n",
    "fx = sp.sqrt(1-x**2)\n",
    "print(\"The answer is\", sp.integrate(fx,(x,0,1)))"
   ]
  },
  {
   "cell_type": "code",
   "execution_count": 80,
   "metadata": {},
   "outputs": [
    {
     "name": "stdout",
     "output_type": "stream",
     "text": [
      "True value : 12.0703463163896\n",
      "0.0 0.19634954084936207\n",
      "Simpson with n= 16 : 12.069944004482764 , error: 0.000402311906871233\n",
      "Simpson with n= 32 : 12.070321341690324 , error: 2.49746993112865e-5\n",
      "Simpson with n= 64 : 12.070344758144522 , error: 1.55824511338665e-6\n",
      "Simpson with n= 128 : 12.070346219041168 , error: 9.73484670652169e-8\n",
      "Simpson with n= 256 : 12.070346310306006 , error: 6.08362960008435e-9\n"
     ]
    },
    {
     "data": {
      "image/png": "[encoded data removed]",
      "text/plain": [
       "<Figure size 432x288 with 1 Axes>"
      ]
     },
     "metadata": {
      "needs_background": "light"
     },
     "output_type": "display_data"
    }
   ],
   "source": [
    "# Ch5 Programming Practice\n",
    "import numpy as np\n",
    "import sympy as sp\n",
    "import matplotlib.pyplot as plt\n",
    "\n",
    "def f(x):\n",
    "    return np.exp(x)*np.sin(x)\n",
    "\n",
    "# Symbolic Computation\n",
    "x = sp.Symbol('x')\n",
    "fx = sp.exp(x)*sp.sin(x)\n",
    "true_integral = sp.N(sp.integrate(fx,(x,0,sp.pi))) # sp.N 유리수를 무리수로 근사\n",
    "print(\"True value :\", true_integral)\n",
    "\n",
    "# Simpson's Rule\n",
    "a = 0\n",
    "b = np.pi\n",
    "n = 16\n",
    "n_list = np.zeros((5,1)) # 5행 1열을 0으로 채운다.\n",
    "# print(n_list)\n",
    "error_list = np.zeros((5,1))\n",
    "for k in range(5): # n = 16, 32, 64, 128, 256\n",
    "    x = np.linspace(a,b,n+1) # a에서 b까지 n+1개의 리스트 만듦\n",
    "#     if k == 0: print(x[0], x[1])\n",
    "    h = (np.pi - 0)/n \n",
    "    sum = f(x[0]) # f(x0)\n",
    "    for i in range(1, np.size(x)-1):\n",
    "        if i%2 == 1:\n",
    "            sum = sum+4*f(x[i])\n",
    "        else:\n",
    "            sum = sum+2*f(x[i])\n",
    "    sum = sum+f(x[n])\n",
    "    sum = sum*h/3\n",
    "    \n",
    "    error = abs(true_integral-sum)\n",
    "    n_list[k] = n\n",
    "    error_list[k] = error\n",
    "    print(\"Simpson with n=\",n,\":\",sum,\", error:\", error)\n",
    "    n *= 2\n",
    "\n",
    "# Visualization\n",
    "plt.plot(np.log2(n_list), np.log2(error_list), 'o-')\n",
    "plt.xlabel(r'$log_2(n)$')\n",
    "plt.ylabel(r'$log_2(error)$')\n",
    "plt.show()"
   ]
  }
 ],
 "metadata": {
  "kernelspec": {
   "display_name": "Python 3",
   "language": "python",
   "name": "python3"
  },
  "language_info": {
   "codemirror_mode": {
    "name": "ipython",
    "version": 3
   },
   "file_extension": ".py",
   "mimetype": "text/x-python",
   "name": "python",
   "nbconvert_exporter": "python",
   "pygments_lexer": "ipython3",
   "version": "3.6.9"
  }
 },
 "nbformat": 4,
 "nbformat_minor": 4
}
